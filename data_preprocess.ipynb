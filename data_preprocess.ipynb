{
 "cells": [
  {
   "cell_type": "code",
   "execution_count": null,
   "id": "a0bf4fcf",
   "metadata": {},
   "outputs": [],
   "source": [
    "import pyspark\n",
    "from pyspark.sql import SparkSession\n",
    "import pyspark.sql.functions as F\n",
    "import pyspark.sql.types as T\n",
    "# spark.conf.set(\"spark.sql.repl.eagerEval.enabled\", True)"
   ]
  },
  {
   "cell_type": "code",
   "execution_count": null,
   "id": "ebcd1e2e",
   "metadata": {},
   "outputs": [],
   "source": [
    "spark = SparkSession.builder.master(\"local[30]\").appName(\"graphlab_amazon_fraud.com\").getOrCreate()\n",
    "spark.conf.set(\"spark.sql.repl.eagerEval.enabled\", True)"
   ]
  },
  {
   "cell_type": "code",
   "execution_count": null,
   "id": "baa8a9f7",
   "metadata": {},
   "outputs": [],
   "source": [
    "review_df = spark.read.json(\"/mnt/raid0_ssd_8tb/dataset/Amazon/Category/reviews_Musical_Instruments.json\")\n",
    "meta_df = spark.read.json(\"/mnt/raid0_ssd_8tb/dataset/Amazon/Category/meta_Musical_Instruments.json\")"
   ]
  },
  {
   "cell_type": "code",
   "execution_count": null,
   "id": "ebc2f8f0",
   "metadata": {},
   "outputs": [],
   "source": [
    "review_df.count()"
   ]
  },
  {
   "cell_type": "code",
   "execution_count": null,
   "id": "98526200",
   "metadata": {},
   "outputs": [],
   "source": [
    "review_df.select(F.count_distinct(\"reviewerID\"))"
   ]
  },
  {
   "cell_type": "code",
   "execution_count": null,
   "id": "8b9f1ea8",
   "metadata": {},
   "outputs": [],
   "source": [
    "equals_zero = lambda e: e == 0\n",
    "rev_df = review_df.withColumn(\"drop\", F.exists(F.col(\"helpful\"), equals_zero))\n",
    "rev_df = rev_df.filter(F.col(\"drop\") == False).drop(F.col(\"drop\"))\n",
    "rev_df = rev_df.select(\"asin\", \"overall\", \"reviewText\", \"reviewerID\", \"reviewerName\", \"summary\", rev_df.helpful[0], rev_df.helpful[1], \"unixReviewTime\", \"reviewTime\")\n",
    "rev_df"
   ]
  },
  {
   "cell_type": "code",
   "execution_count": null,
   "id": "5f737847",
   "metadata": {},
   "outputs": [],
   "source": [
    "# rev_df = rev_df.groupBy(\"reviewerID\").agg(F.sum(\"helpful[0]\").alias(\"helpful_0\"), \\\n",
    "#                                 F.sum(\"helpful[1]\").alias(\"helpful_1\"), \\\n",
    "#                                 F.collect_list(\"asin\").alias(\"asin\"), \\\n",
    "#                                 F.collect_list(\"overall\").alias(\"overall\"), \\\n",
    "#                                 F.collect_list(\"reviewText\").alias(\"reviewText\"), \\\n",
    "#                                 F.collect_list(\"summary\").alias(\"summary\"), \\\n",
    "#                                 F.collect_list(\"reviewerName\").alias(\"reviewerName\"), \\\n",
    "#                                 F.collect_list(\"unixReviewTime\").alias(\"unixReviewTime\"), \\\n",
    "#                                 F.collect_list(\"reviewTime\").alias(\"reviewTime\")\n",
    "#                                 )"
   ]
  },
  {
   "cell_type": "code",
   "execution_count": 8,
   "id": "04d7139b",
   "metadata": {},
   "outputs": [],
   "source": [
    "rev_df = rev_df.withColumn(\"label\", (F.col(\"helpful[0]\") / F.col(\"helpful[1]\"))).drop(\"helpful[0]\").drop(\"helpful[1]\")\n",
    "rev_df = rev_df.filter((F.col(\"label\") > 0.8) | (F.col(\"label\") < 0.2))\n",
    "rev_df = rev_df.withColumn(\"label\", F.udf(lambda a: 1 if a > 0.8 else 0, T.IntegerType())(F.col(\"label\")))"
   ]
  },
  {
   "cell_type": "code",
   "execution_count": 9,
   "id": "dc1f3c01",
   "metadata": {},
   "outputs": [
    {
     "name": "stderr",
     "output_type": "stream",
     "text": [
      "\r",
      "[Stage 19:>                                                         (0 + 1) / 1]\r",
      "\r",
      "                                                                                \r"
     ]
    },
    {
     "data": {
      "text/html": [
       "<table border='1'>\n",
       "<tr><th>asin</th><th>overall</th><th>reviewText</th><th>reviewerID</th><th>reviewerName</th><th>summary</th><th>unixReviewTime</th><th>reviewTime</th><th>label</th></tr>\n",
       "<tr><td>0634029347</td><td>2.0</td><td>I bought this DVD...</td><td>A1MUVHT8BONL5K</td><td>Amazon Customer &quot;...</td><td>NOT CLAPTION MUSI...</td><td>1129334400</td><td>10 15, 2005</td><td>0</td></tr>\n",
       "<tr><td>0634029347</td><td>5.0</td><td>If you are an una...</td><td>A16WE7UU0QD33D</td><td>S. R. Mcdonald</td><td>Solo Years Revisited</td><td>1128211200</td><td>10 2, 2005</td><td>0</td></tr>\n",
       "<tr><td>0634029355</td><td>2.0</td><td>I was carefull to...</td><td>AXMWZYP2IROMP</td><td>Alex</td><td>not great instruc...</td><td>1352419200</td><td>11 9, 2012</td><td>1</td></tr>\n",
       "<tr><td>0634029355</td><td>2.0</td><td>I bought this DVD...</td><td>A1MUVHT8BONL5K</td><td>Amazon Customer &quot;...</td><td>NOT CLAPTION MUSI...</td><td>1129334400</td><td>10 15, 2005</td><td>0</td></tr>\n",
       "<tr><td>0634029355</td><td>5.0</td><td>Unless you are so...</td><td>A6DCKXX4659CR</td><td>Hotshot &quot;Hotshot&quot;</td><td>CLAPTON GUITAR IN...</td><td>1189728000</td><td>09 14, 2007</td><td>1</td></tr>\n",
       "<tr><td>0634029355</td><td>5.0</td><td>I&#x27;ve played guita...</td><td>A28YJZCV43ZWQW</td><td>James V. Signorile</td><td>First rate lesson...</td><td>1206489600</td><td>03 26, 2008</td><td>1</td></tr>\n",
       "<tr><td>0634029363</td><td>2.0</td><td>As much as I like...</td><td>A1M7OWNI93N1Y3</td><td>geronimo</td><td>not very didactic</td><td>1365897600</td><td>04 14, 2013</td><td>1</td></tr>\n",
       "<tr><td>0634029363</td><td>5.0</td><td>For those who may...</td><td>A338HVUM4AWJY7</td><td>Joaquim Do M. Nt ...</td><td>This is an instru...</td><td>1182038400</td><td>06 17, 2007</td><td>1</td></tr>\n",
       "<tr><td>0634029363</td><td>1.0</td><td>Very disappointin...</td><td>AKKQM6B0KI6F4</td><td>Thomas J. Chuchola</td><td>Clapton Classics</td><td>1272672000</td><td>05 1, 2010</td><td>1</td></tr>\n",
       "<tr><td>0634055534</td><td>5.0</td><td>So, you have a pi...</td><td>A175UOHOVXRYMW</td><td>Diane E. Amov &quot;Th...</td><td>Frustrated No More!</td><td>1214092800</td><td>06 22, 2008</td><td>1</td></tr>\n",
       "<tr><td>0634061801</td><td>5.0</td><td>This was a very p...</td><td>A3T7SXCKJUYXT3</td><td>K. D. Shultz</td><td>Buy It ...and get...</td><td>1190851200</td><td>09 27, 2007</td><td>1</td></tr>\n",
       "<tr><td>0634061801</td><td>4.0</td><td>I&#x27;ve been playing...</td><td>A1JZM0YIYHL6JW</td><td>Leon C. Rodriguez...</td><td>Well executed and...</td><td>1270684800</td><td>04 8, 2010</td><td>1</td></tr>\n",
       "<tr><td>0634061801</td><td>5.0</td><td>Mat and would not...</td><td>A372SXZ39TUWTZ</td><td>Magellan &quot;Scarpetti&quot;</td><td>Finally, a Blues ...</td><td>1122681600</td><td>07 30, 2005</td><td>1</td></tr>\n",
       "<tr><td>0634061801</td><td>5.0</td><td>I am a profession...</td><td>A2FIMQIKNOHFPK</td><td>S. White</td><td>Get rhythm!</td><td>1190592000</td><td>09 24, 2007</td><td>1</td></tr>\n",
       "<tr><td>0634061801</td><td>5.0</td><td>My Background:In ...</td><td>A1QVR0ZIG59ZAG</td><td>Thomas G. Sopchak...</td><td>Not For The Begin...</td><td>1187654400</td><td>08 21, 2007</td><td>1</td></tr>\n",
       "<tr><td>0634065459</td><td>5.0</td><td>After performing ...</td><td>A1746NHDF3PF3H</td><td>T. Feldmann</td><td>Outstanding!!!</td><td>1295913600</td><td>01 25, 2011</td><td>1</td></tr>\n",
       "<tr><td>0739003755</td><td>5.0</td><td>This is a two CD ...</td><td>A26LIKTL5KW29E</td><td>3_Angels</td><td>Great music for p...</td><td>1212624000</td><td>06 5, 2008</td><td>1</td></tr>\n",
       "<tr><td>0739003755</td><td>5.0</td><td>The Discovery CD ...</td><td>A4TE45TH7L2MW</td><td>~AMH</td><td>Magical Music Boo...</td><td>1311984000</td><td>07 30, 2011</td><td>1</td></tr>\n",
       "<tr><td>0739037986</td><td>1.0</td><td>This was terrible...</td><td>A18C8JYM2161KE</td><td>M. Balzano</td><td>Terrible - skips ...</td><td>1219795200</td><td>08 27, 2008</td><td>1</td></tr>\n",
       "<tr><td>0739040251</td><td>5.0</td><td>If you have not s...</td><td>AARB5F3HPXV0V</td><td>D. Forester</td><td>Simmon Phillips a...</td><td>1192060800</td><td>10 11, 2007</td><td>1</td></tr>\n",
       "</table>\n",
       "only showing top 20 rows\n"
      ],
      "text/plain": [
       "+----------+-------+--------------------+--------------+--------------------+--------------------+--------------+-----------+-----+\n",
       "|      asin|overall|          reviewText|    reviewerID|        reviewerName|             summary|unixReviewTime| reviewTime|label|\n",
       "+----------+-------+--------------------+--------------+--------------------+--------------------+--------------+-----------+-----+\n",
       "|0634029347|    2.0|I bought this DVD...|A1MUVHT8BONL5K|Amazon Customer \"...|NOT CLAPTION MUSI...|    1129334400|10 15, 2005|    0|\n",
       "|0634029347|    5.0|If you are an una...|A16WE7UU0QD33D|      S. R. Mcdonald|Solo Years Revisited|    1128211200| 10 2, 2005|    0|\n",
       "|0634029355|    2.0|I was carefull to...| AXMWZYP2IROMP|                Alex|not great instruc...|    1352419200| 11 9, 2012|    1|\n",
       "|0634029355|    2.0|I bought this DVD...|A1MUVHT8BONL5K|Amazon Customer \"...|NOT CLAPTION MUSI...|    1129334400|10 15, 2005|    0|\n",
       "|0634029355|    5.0|Unless you are so...| A6DCKXX4659CR|   Hotshot \"Hotshot\"|CLAPTON GUITAR IN...|    1189728000|09 14, 2007|    1|\n",
       "|0634029355|    5.0|I've played guita...|A28YJZCV43ZWQW|  James V. Signorile|First rate lesson...|    1206489600|03 26, 2008|    1|\n",
       "|0634029363|    2.0|As much as I like...|A1M7OWNI93N1Y3|            geronimo|   not very didactic|    1365897600|04 14, 2013|    1|\n",
       "|0634029363|    5.0|For those who may...|A338HVUM4AWJY7|Joaquim Do M. Nt ...|This is an instru...|    1182038400|06 17, 2007|    1|\n",
       "|0634029363|    1.0|Very disappointin...| AKKQM6B0KI6F4|  Thomas J. Chuchola|    Clapton Classics|    1272672000| 05 1, 2010|    1|\n",
       "|0634055534|    5.0|So, you have a pi...|A175UOHOVXRYMW|Diane E. Amov \"Th...| Frustrated No More!|    1214092800|06 22, 2008|    1|\n",
       "|0634061801|    5.0|This was a very p...|A3T7SXCKJUYXT3|        K. D. Shultz|Buy It ...and get...|    1190851200|09 27, 2007|    1|\n",
       "|0634061801|    4.0|I've been playing...|A1JZM0YIYHL6JW|Leon C. Rodriguez...|Well executed and...|    1270684800| 04 8, 2010|    1|\n",
       "|0634061801|    5.0|Mat and would not...|A372SXZ39TUWTZ|Magellan \"Scarpetti\"|Finally, a Blues ...|    1122681600|07 30, 2005|    1|\n",
       "|0634061801|    5.0|I am a profession...|A2FIMQIKNOHFPK|            S. White|         Get rhythm!|    1190592000|09 24, 2007|    1|\n",
       "|0634061801|    5.0|My Background:In ...|A1QVR0ZIG59ZAG|Thomas G. Sopchak...|Not For The Begin...|    1187654400|08 21, 2007|    1|\n",
       "|0634065459|    5.0|After performing ...|A1746NHDF3PF3H|         T. Feldmann|      Outstanding!!!|    1295913600|01 25, 2011|    1|\n",
       "|0739003755|    5.0|This is a two CD ...|A26LIKTL5KW29E|            3_Angels|Great music for p...|    1212624000| 06 5, 2008|    1|\n",
       "|0739003755|    5.0|The Discovery CD ...| A4TE45TH7L2MW|                ~AMH|Magical Music Boo...|    1311984000|07 30, 2011|    1|\n",
       "|0739037986|    1.0|This was terrible...|A18C8JYM2161KE|          M. Balzano|Terrible - skips ...|    1219795200|08 27, 2008|    1|\n",
       "|0739040251|    5.0|If you have not s...| AARB5F3HPXV0V|         D. Forester|Simmon Phillips a...|    1192060800|10 11, 2007|    1|\n",
       "+----------+-------+--------------------+--------------+--------------------+--------------------+--------------+-----------+-----+\n",
       "only showing top 20 rows"
      ]
     },
     "execution_count": 9,
     "metadata": {},
     "output_type": "execute_result"
    }
   ],
   "source": [
    "rev_df"
   ]
  },
  {
   "cell_type": "code",
   "execution_count": 10,
   "id": "8b86ab3c",
   "metadata": {},
   "outputs": [
    {
     "data": {
      "text/plain": [
       "152391"
      ]
     },
     "execution_count": 10,
     "metadata": {},
     "output_type": "execute_result"
    }
   ],
   "source": [
    "rev_df.count()"
   ]
  },
  {
   "cell_type": "code",
   "execution_count": null,
   "id": "8d8d3f1e",
   "metadata": {},
   "outputs": [],
   "source": [
    "# rev_df = rev_df.withColumn(\"reviewLen\", F.udf(lambda a: len(a), T.IntegerType())(F.col(\"reviewerName\")))\n",
    "# rev_df = rev_df.withColumn(\"reviewSetLen\", F.udf(lambda a: len(set(a)), T.IntegerType())(F.col(\"reviewerName\")))\n",
    "# rev_df = rev_df.drop(F.col(\"reviewLen\")).drop(F.col(\"reviewSetLen\"))"
   ]
  },
  {
   "cell_type": "code",
   "execution_count": null,
   "id": "1ea94e9a",
   "metadata": {},
   "outputs": [],
   "source": [
    "reviewers_set = set([row[0] for row in rev_df.select('reviewerID').collect()])"
   ]
  },
  {
   "cell_type": "code",
   "execution_count": null,
   "id": "dc6747ec",
   "metadata": {},
   "outputs": [],
   "source": [
    "len(reviewers_set)"
   ]
  },
  {
   "cell_type": "code",
   "execution_count": null,
   "id": "d44eca70",
   "metadata": {},
   "outputs": [],
   "source": [
    "# rev_df_json = rev_df.toJSON()\n",
    "rev_df.coalesce(1).write.format('json').save(\"/mnt/raid0_ssd_8tb/dataset/Amazon/Refined/Musical_Instruments\")"
   ]
  },
  {
   "cell_type": "code",
   "execution_count": null,
   "id": "0db1aad3",
   "metadata": {},
   "outputs": [],
   "source": [
    "rev_df.printSchema()"
   ]
  },
  {
   "cell_type": "code",
   "execution_count": null,
   "id": "109cfacb",
   "metadata": {},
   "outputs": [],
   "source": [
    "# id_list = list(rev_df.select('reviewerID').toPandas()['reviewerID'])"
   ]
  },
  {
   "cell_type": "code",
   "execution_count": null,
   "id": "16fc09cb",
   "metadata": {},
   "outputs": [],
   "source": [
    "# s = set()\n",
    "# dup = list()\n",
    "# for r_id in id_list:\n",
    "#     if r_id in s:\n",
    "#         dup.append(r_id)\n",
    "#     else:\n",
    "#         s.add(r_id)"
   ]
  },
  {
   "cell_type": "code",
   "execution_count": null,
   "id": "1e05b77b",
   "metadata": {},
   "outputs": [],
   "source": [
    "# print(dup)"
   ]
  },
  {
   "cell_type": "code",
   "execution_count": null,
   "id": "9442ec82",
   "metadata": {},
   "outputs": [],
   "source": [
    "# rev_df.filter(rev_df.reviewerID == 'A1R8OFZY6CYX7G').show()"
   ]
  },
  {
   "cell_type": "code",
   "execution_count": null,
   "id": "5d991c50",
   "metadata": {},
   "outputs": [],
   "source": [
    "rev_df.select(count_distinct(\"reviewerID\")).show()"
   ]
  },
  {
   "cell_type": "code",
   "execution_count": null,
   "id": "746c2a4b",
   "metadata": {},
   "outputs": [],
   "source": [
    "rev_df.printSchema()"
   ]
  },
  {
   "cell_type": "code",
   "execution_count": null,
   "id": "54787e8f",
   "metadata": {},
   "outputs": [],
   "source": [
    "meta_df.printSchema()"
   ]
  },
  {
   "cell_type": "code",
   "execution_count": null,
   "id": "2432e837",
   "metadata": {},
   "outputs": [],
   "source": [
    "meta_df"
   ]
  },
  {
   "cell_type": "code",
   "execution_count": null,
   "id": "e31d2567",
   "metadata": {},
   "outputs": [],
   "source": [
    "meta_df.count()"
   ]
  },
  {
   "cell_type": "code",
   "execution_count": null,
   "id": "f78a29a1",
   "metadata": {},
   "outputs": [],
   "source": [
    "upu_groupings = rev_df.groupBy(\"asin\").agg(F.collect_list(\"reviewerID\").alias(\"reviewerID\"))"
   ]
  },
  {
   "cell_type": "code",
   "execution_count": null,
   "id": "b43d2579",
   "metadata": {},
   "outputs": [],
   "source": [
    "upu_groupings"
   ]
  },
  {
   "cell_type": "code",
   "execution_count": null,
   "id": "0b8792a8",
   "metadata": {},
   "outputs": [],
   "source": [
    "# upu_groupings = upu_groupings.select(\"asin\", \"reviewerID\").filter((F.col('reviewerID').isin(reviewers_set)))"
   ]
  },
  {
   "cell_type": "code",
   "execution_count": null,
   "id": "c8a71b0d",
   "metadata": {},
   "outputs": [],
   "source": [
    "upu_groupings.count()"
   ]
  },
  {
   "cell_type": "code",
   "execution_count": null,
   "id": "2e4748b8",
   "metadata": {},
   "outputs": [],
   "source": [
    "def format_date(review_time):\n",
    "    month, day, year = review_time.replace(\",\",\"\").split(\" \")\n",
    "    return f\"{int(month):02d}-{int(day):02d}-{int(year):04d}\""
   ]
  },
  {
   "cell_type": "code",
   "execution_count": null,
   "id": "81cca1a6",
   "metadata": {},
   "outputs": [],
   "source": [
    "format_date_udf = F.udf(lambda x: format_date(x), T.StringType())\n",
    "usu_groupings = rev_df.withColumn(\"formatted_date\", F.to_date(format_date_udf(F.concat_ws(\",\", \"reviewTime\")), \"MM-dd-yyyy\"))\n",
    "usu_groupings = usu_groupings.groupBy(F.weekofyear(\"formatted_date\").alias(\"week\"), \"overall\").agg(F.collect_list(\"reviewerID\").alias(\"reviewerID\"))#.collect()"
   ]
  },
  {
   "cell_type": "code",
   "execution_count": null,
   "id": "a0b81f55",
   "metadata": {},
   "outputs": [],
   "source": [
    "usu_groupings.count()"
   ]
  },
  {
   "cell_type": "code",
   "execution_count": 11,
   "id": "9e484e10",
   "metadata": {},
   "outputs": [],
   "source": [
    "from pyspark.ml.feature import HashingTF, IDF, Tokenizer"
   ]
  },
  {
   "cell_type": "code",
   "execution_count": 12,
   "id": "426c79cd",
   "metadata": {},
   "outputs": [],
   "source": [
    "tokenizer = Tokenizer(inputCol=\"reviewText\", outputCol=\"words\")\n",
    "words_df = tokenizer.transform(rev_df)"
   ]
  },
  {
   "cell_type": "code",
   "execution_count": 13,
   "id": "8e50752a",
   "metadata": {},
   "outputs": [],
   "source": [
    "hashingTF = HashingTF(inputCol=\"words\", outputCol=\"tf_features\")\n",
    "tf_df = hashingTF.transform(words_df)"
   ]
  },
  {
   "cell_type": "code",
   "execution_count": 14,
   "id": "a515946e",
   "metadata": {},
   "outputs": [],
   "source": [
    "# featurizedData"
   ]
  },
  {
   "cell_type": "code",
   "execution_count": 15,
   "id": "bb4756f7",
   "metadata": {},
   "outputs": [
    {
     "name": "stderr",
     "output_type": "stream",
     "text": [
      "                                                                                \r"
     ]
    }
   ],
   "source": [
    "idf = IDF(inputCol=\"tf_features\", outputCol=\"features\")\n",
    "idfModel = idf.fit(tf_df)\n",
    "tfidf_df = idfModel.transform(tf_df)"
   ]
  },
  {
   "cell_type": "code",
   "execution_count": 16,
   "id": "e8aeca97",
   "metadata": {},
   "outputs": [],
   "source": [
    "from pyspark.ml.feature import Normalizer\n",
    "normalizer = Normalizer(inputCol=\"features\", outputCol=\"norm\")\n",
    "tfidf_df= normalizer.transform(tfidf_df).drop(F.col(\"tf_features\")).drop(F.col(\"features\"))"
   ]
  },
  {
   "cell_type": "code",
   "execution_count": 17,
   "id": "51fcaac6",
   "metadata": {},
   "outputs": [
    {
     "name": "stdout",
     "output_type": "stream",
     "text": [
      "22/09/27 09:18:56 WARN DAGScheduler: Broadcasting large task binary with size 4.1 MiB\n",
      "22/09/27 09:18:56 WARN DAGScheduler: Broadcasting large task binary with size 4.1 MiB\n"
     ]
    },
    {
     "data": {
      "text/html": [
       "<table border='1'>\n",
       "<tr><th>asin</th><th>overall</th><th>reviewText</th><th>reviewerID</th><th>reviewerName</th><th>summary</th><th>unixReviewTime</th><th>reviewTime</th><th>label</th><th>words</th><th>norm</th></tr>\n",
       "<tr><td>0634029347</td><td>2.0</td><td>I bought this DVD...</td><td>A1MUVHT8BONL5K</td><td>Amazon Customer &quot;...</td><td>NOT CLAPTION MUSI...</td><td>1129334400</td><td>10 15, 2005</td><td>0</td><td>[i, bought, this,...</td><td>(262144,[11104,11...</td></tr>\n",
       "<tr><td>0634029347</td><td>5.0</td><td>If you are an una...</td><td>A16WE7UU0QD33D</td><td>S. R. Mcdonald</td><td>Solo Years Revisited</td><td>1128211200</td><td>10 2, 2005</td><td>0</td><td>[if, you, are, an...</td><td>(262144,[19036,30...</td></tr>\n",
       "<tr><td>0634029355</td><td>2.0</td><td>I was carefull to...</td><td>AXMWZYP2IROMP</td><td>Alex</td><td>not great instruc...</td><td>1352419200</td><td>11 9, 2012</td><td>1</td><td>[i, was, carefull...</td><td>(262144,[3834,694...</td></tr>\n",
       "<tr><td>0634029355</td><td>2.0</td><td>I bought this DVD...</td><td>A1MUVHT8BONL5K</td><td>Amazon Customer &quot;...</td><td>NOT CLAPTION MUSI...</td><td>1129334400</td><td>10 15, 2005</td><td>0</td><td>[i, bought, this,...</td><td>(262144,[11568,19...</td></tr>\n",
       "<tr><td>0634029355</td><td>5.0</td><td>Unless you are so...</td><td>A6DCKXX4659CR</td><td>Hotshot &quot;Hotshot&quot;</td><td>CLAPTON GUITAR IN...</td><td>1189728000</td><td>09 14, 2007</td><td>1</td><td>[unless, you, are...</td><td>(262144,[2701,392...</td></tr>\n",
       "<tr><td>0634029355</td><td>5.0</td><td>I&#x27;ve played guita...</td><td>A28YJZCV43ZWQW</td><td>James V. Signorile</td><td>First rate lesson...</td><td>1206489600</td><td>03 26, 2008</td><td>1</td><td>[i&#x27;ve, played, gu...</td><td>(262144,[161,1546...</td></tr>\n",
       "<tr><td>0634029363</td><td>2.0</td><td>As much as I like...</td><td>A1M7OWNI93N1Y3</td><td>geronimo</td><td>not very didactic</td><td>1365897600</td><td>04 14, 2013</td><td>1</td><td>[as, much, as, i,...</td><td>(262144,[921,5798...</td></tr>\n",
       "<tr><td>0634029363</td><td>5.0</td><td>For those who may...</td><td>A338HVUM4AWJY7</td><td>Joaquim Do M. Nt ...</td><td>This is an instru...</td><td>1182038400</td><td>06 17, 2007</td><td>1</td><td>[for, those, who,...</td><td>(262144,[150,2306...</td></tr>\n",
       "<tr><td>0634029363</td><td>1.0</td><td>Very disappointin...</td><td>AKKQM6B0KI6F4</td><td>Thomas J. Chuchola</td><td>Clapton Classics</td><td>1272672000</td><td>05 1, 2010</td><td>1</td><td>[very, disappoint...</td><td>(262144,[6946,190...</td></tr>\n",
       "<tr><td>0634055534</td><td>5.0</td><td>So, you have a pi...</td><td>A175UOHOVXRYMW</td><td>Diane E. Amov &quot;Th...</td><td>Frustrated No More!</td><td>1214092800</td><td>06 22, 2008</td><td>1</td><td>[so,, you, have, ...</td><td>(262144,[150,3091...</td></tr>\n",
       "<tr><td>0634061801</td><td>5.0</td><td>This was a very p...</td><td>A3T7SXCKJUYXT3</td><td>K. D. Shultz</td><td>Buy It ...and get...</td><td>1190851200</td><td>09 27, 2007</td><td>1</td><td>[this, was, a, ve...</td><td>(262144,[16004,19...</td></tr>\n",
       "<tr><td>0634061801</td><td>4.0</td><td>I&#x27;ve been playing...</td><td>A1JZM0YIYHL6JW</td><td>Leon C. Rodriguez...</td><td>Well executed and...</td><td>1270684800</td><td>04 8, 2010</td><td>1</td><td>[i&#x27;ve, been, play...</td><td>(262144,[921,1386...</td></tr>\n",
       "<tr><td>0634061801</td><td>5.0</td><td>Mat and would not...</td><td>A372SXZ39TUWTZ</td><td>Magellan &quot;Scarpetti&quot;</td><td>Finally, a Blues ...</td><td>1122681600</td><td>07 30, 2005</td><td>1</td><td>[mat, and, would,...</td><td>(262144,[1386,138...</td></tr>\n",
       "<tr><td>0634061801</td><td>5.0</td><td>I am a profession...</td><td>A2FIMQIKNOHFPK</td><td>S. White</td><td>Get rhythm!</td><td>1190592000</td><td>09 24, 2007</td><td>1</td><td>[i, am, a, profes...</td><td>(262144,[1386,160...</td></tr>\n",
       "<tr><td>0634061801</td><td>5.0</td><td>My Background:In ...</td><td>A1QVR0ZIG59ZAG</td><td>Thomas G. Sopchak...</td><td>Not For The Begin...</td><td>1187654400</td><td>08 21, 2007</td><td>1</td><td>[my, background:i...</td><td>(262144,[619,696,...</td></tr>\n",
       "<tr><td>0634065459</td><td>5.0</td><td>After performing ...</td><td>A1746NHDF3PF3H</td><td>T. Feldmann</td><td>Outstanding!!!</td><td>1295913600</td><td>01 25, 2011</td><td>1</td><td>[after, performin...</td><td>(262144,[1071,154...</td></tr>\n",
       "<tr><td>0739003755</td><td>5.0</td><td>This is a two CD ...</td><td>A26LIKTL5KW29E</td><td>3_Angels</td><td>Great music for p...</td><td>1212624000</td><td>06 5, 2008</td><td>1</td><td>[this, is, a, two...</td><td>(262144,[3093,722...</td></tr>\n",
       "<tr><td>0739003755</td><td>5.0</td><td>The Discovery CD ...</td><td>A4TE45TH7L2MW</td><td>~AMH</td><td>Magical Music Boo...</td><td>1311984000</td><td>07 30, 2011</td><td>1</td><td>[the, discovery, ...</td><td>(262144,[6946,177...</td></tr>\n",
       "<tr><td>0739037986</td><td>1.0</td><td>This was terrible...</td><td>A18C8JYM2161KE</td><td>M. Balzano</td><td>Terrible - skips ...</td><td>1219795200</td><td>08 27, 2008</td><td>1</td><td>[this, was, terri...</td><td>(262144,[2306,853...</td></tr>\n",
       "<tr><td>0739040251</td><td>5.0</td><td>If you have not s...</td><td>AARB5F3HPXV0V</td><td>D. Forester</td><td>Simmon Phillips a...</td><td>1192060800</td><td>10 11, 2007</td><td>1</td><td>[if, you, have, n...</td><td>(262144,[6261,254...</td></tr>\n",
       "</table>\n",
       "only showing top 20 rows\n"
      ],
      "text/plain": [
       "+----------+-------+--------------------+--------------+--------------------+--------------------+--------------+-----------+-----+--------------------+--------------------+\n",
       "|      asin|overall|          reviewText|    reviewerID|        reviewerName|             summary|unixReviewTime| reviewTime|label|               words|                norm|\n",
       "+----------+-------+--------------------+--------------+--------------------+--------------------+--------------+-----------+-----+--------------------+--------------------+\n",
       "|0634029347|    2.0|I bought this DVD...|A1MUVHT8BONL5K|Amazon Customer \"...|NOT CLAPTION MUSI...|    1129334400|10 15, 2005|    0|[i, bought, this,...|(262144,[11104,11...|\n",
       "|0634029347|    5.0|If you are an una...|A16WE7UU0QD33D|      S. R. Mcdonald|Solo Years Revisited|    1128211200| 10 2, 2005|    0|[if, you, are, an...|(262144,[19036,30...|\n",
       "|0634029355|    2.0|I was carefull to...| AXMWZYP2IROMP|                Alex|not great instruc...|    1352419200| 11 9, 2012|    1|[i, was, carefull...|(262144,[3834,694...|\n",
       "|0634029355|    2.0|I bought this DVD...|A1MUVHT8BONL5K|Amazon Customer \"...|NOT CLAPTION MUSI...|    1129334400|10 15, 2005|    0|[i, bought, this,...|(262144,[11568,19...|\n",
       "|0634029355|    5.0|Unless you are so...| A6DCKXX4659CR|   Hotshot \"Hotshot\"|CLAPTON GUITAR IN...|    1189728000|09 14, 2007|    1|[unless, you, are...|(262144,[2701,392...|\n",
       "|0634029355|    5.0|I've played guita...|A28YJZCV43ZWQW|  James V. Signorile|First rate lesson...|    1206489600|03 26, 2008|    1|[i've, played, gu...|(262144,[161,1546...|\n",
       "|0634029363|    2.0|As much as I like...|A1M7OWNI93N1Y3|            geronimo|   not very didactic|    1365897600|04 14, 2013|    1|[as, much, as, i,...|(262144,[921,5798...|\n",
       "|0634029363|    5.0|For those who may...|A338HVUM4AWJY7|Joaquim Do M. Nt ...|This is an instru...|    1182038400|06 17, 2007|    1|[for, those, who,...|(262144,[150,2306...|\n",
       "|0634029363|    1.0|Very disappointin...| AKKQM6B0KI6F4|  Thomas J. Chuchola|    Clapton Classics|    1272672000| 05 1, 2010|    1|[very, disappoint...|(262144,[6946,190...|\n",
       "|0634055534|    5.0|So, you have a pi...|A175UOHOVXRYMW|Diane E. Amov \"Th...| Frustrated No More!|    1214092800|06 22, 2008|    1|[so,, you, have, ...|(262144,[150,3091...|\n",
       "|0634061801|    5.0|This was a very p...|A3T7SXCKJUYXT3|        K. D. Shultz|Buy It ...and get...|    1190851200|09 27, 2007|    1|[this, was, a, ve...|(262144,[16004,19...|\n",
       "|0634061801|    4.0|I've been playing...|A1JZM0YIYHL6JW|Leon C. Rodriguez...|Well executed and...|    1270684800| 04 8, 2010|    1|[i've, been, play...|(262144,[921,1386...|\n",
       "|0634061801|    5.0|Mat and would not...|A372SXZ39TUWTZ|Magellan \"Scarpetti\"|Finally, a Blues ...|    1122681600|07 30, 2005|    1|[mat, and, would,...|(262144,[1386,138...|\n",
       "|0634061801|    5.0|I am a profession...|A2FIMQIKNOHFPK|            S. White|         Get rhythm!|    1190592000|09 24, 2007|    1|[i, am, a, profes...|(262144,[1386,160...|\n",
       "|0634061801|    5.0|My Background:In ...|A1QVR0ZIG59ZAG|Thomas G. Sopchak...|Not For The Begin...|    1187654400|08 21, 2007|    1|[my, background:i...|(262144,[619,696,...|\n",
       "|0634065459|    5.0|After performing ...|A1746NHDF3PF3H|         T. Feldmann|      Outstanding!!!|    1295913600|01 25, 2011|    1|[after, performin...|(262144,[1071,154...|\n",
       "|0739003755|    5.0|This is a two CD ...|A26LIKTL5KW29E|            3_Angels|Great music for p...|    1212624000| 06 5, 2008|    1|[this, is, a, two...|(262144,[3093,722...|\n",
       "|0739003755|    5.0|The Discovery CD ...| A4TE45TH7L2MW|                ~AMH|Magical Music Boo...|    1311984000|07 30, 2011|    1|[the, discovery, ...|(262144,[6946,177...|\n",
       "|0739037986|    1.0|This was terrible...|A18C8JYM2161KE|          M. Balzano|Terrible - skips ...|    1219795200|08 27, 2008|    1|[this, was, terri...|(262144,[2306,853...|\n",
       "|0739040251|    5.0|If you have not s...| AARB5F3HPXV0V|         D. Forester|Simmon Phillips a...|    1192060800|10 11, 2007|    1|[if, you, have, n...|(262144,[6261,254...|\n",
       "+----------+-------+--------------------+--------------+--------------------+--------------------+--------------+-----------+-----+--------------------+--------------------+\n",
       "only showing top 20 rows"
      ]
     },
     "execution_count": 17,
     "metadata": {},
     "output_type": "execute_result"
    }
   ],
   "source": [
    "tfidf_df"
   ]
  },
  {
   "cell_type": "code",
   "execution_count": 18,
   "id": "8dac39ca",
   "metadata": {},
   "outputs": [
    {
     "name": "stdout",
     "output_type": "stream",
     "text": [
      "22/09/27 09:18:56 WARN DAGScheduler: Broadcasting large task binary with size 4.1 MiB\n"
     ]
    }
   ],
   "source": [
    "tfidf_sample_df = spark.createDataFrame(tfidf_df.head(10))\n",
    "# tfidf_sample_df = tfidf_df\n",
    "# tfidf_sample_df = tfidf_df.sample(fraction=0.3, seed=3)"
   ]
  },
  {
   "cell_type": "code",
   "execution_count": 19,
   "id": "43874640",
   "metadata": {},
   "outputs": [
    {
     "name": "stderr",
     "output_type": "stream",
     "text": [
      "\r",
      "[Stage 29:>                                                       (0 + 30) / 30]\r",
      "\r",
      "                                                                                \r"
     ]
    },
    {
     "data": {
      "text/plain": [
       "10"
      ]
     },
     "execution_count": 19,
     "metadata": {},
     "output_type": "execute_result"
    }
   ],
   "source": [
    "tfidf_sample_df.count()"
   ]
  },
  {
   "cell_type": "code",
   "execution_count": 20,
   "id": "46d3e5ad",
   "metadata": {},
   "outputs": [],
   "source": [
    "# features = [row[0] for row in tfidf_df.select('norm').collect()]\n",
    "# features"
   ]
  },
  {
   "cell_type": "code",
   "execution_count": 21,
   "id": "535520ee",
   "metadata": {},
   "outputs": [],
   "source": [
    "dot_prd = F.udf(lambda x,y: float(x.dot(y)), T.DoubleType())\n",
    "tfidf_dot_df = tfidf_sample_df.alias(\"i\").join(tfidf_sample_df.alias(\"j\"), F.col(\"i.norm\") < F.col(\"j.norm\"))\\\n",
    "    .select(\n",
    "        F.col(\"i.reviewerID\").alias(\"i_reviewerID\"),\n",
    "        F.col(\"j.reviewerID\").alias(\"j_reviewerID\"),\n",
    "        F.col(\"i.norm\").alias(\"i\"), \n",
    "        F.col(\"j.norm\").alias(\"j\"), \n",
    "        dot_prd(\"i.norm\", \"j.norm\").alias(\"dot\"))\\\n",
    "    .sort(\"i\", \"j\")\n",
    "\n",
    "# dot_prd = F.udf(lambda x,y: float(x.dot(y)), T.DoubleType())\n",
    "# tfidf_sample_df.alias(\"i\").join(tfidf_sample_df.alias(\"j\"), F.col(\"i.norm\") < F.col(\"j.norm\"))\\\n",
    "#     .select(\n",
    "#         F.col(\"i.norm\").alias(\"i\"), \n",
    "#         F.col(\"j.norm\").alias(\"j\"), \n",
    "#         dot_prd(\"i.norm\", \"j.norm\").alias(\"dot\"))\\\n",
    "#     .sort(\"i\", \"j\")"
   ]
  },
  {
   "cell_type": "code",
   "execution_count": 22,
   "id": "4537c175",
   "metadata": {},
   "outputs": [],
   "source": [
    "tfidf_dot_df = tfidf_dot_df.drop(F.col(\"i\")).drop(F.col(\"j\"))"
   ]
  },
  {
   "cell_type": "code",
   "execution_count": 23,
   "id": "e46aab88",
   "metadata": {},
   "outputs": [],
   "source": [
    "tfidf_dot_df = tfidf_dot_df.groupBy(\"i_reviewerID\").agg(F.collect_list(\"j_reviewerID\").alias(\"j_reviewerID\"), \\\n",
    "                                F.collect_list(\"dot\").alias(\"dot\")\n",
    "                                )"
   ]
  },
  {
   "cell_type": "code",
   "execution_count": 24,
   "id": "213c0d85",
   "metadata": {},
   "outputs": [
    {
     "name": "stderr",
     "output_type": "stream",
     "text": [
      "                                                                                \r"
     ]
    },
    {
     "data": {
      "text/plain": [
       "8"
      ]
     },
     "execution_count": 24,
     "metadata": {},
     "output_type": "execute_result"
    }
   ],
   "source": [
    "tfidf_dot_df.count()"
   ]
  },
  {
   "cell_type": "code",
   "execution_count": 25,
   "id": "6de4ac12",
   "metadata": {},
   "outputs": [],
   "source": [
    "# topn = F.udf(lambda a: zip(*heapq.nlargest(5, enumerate(a), key=operator.itemgetter(1)))[0], T.ArrayType(T.IntegerType()))\n",
    "topn = F.udf(lambda a: sorted(range(len(a)), key=lambda i: a[i])[-5:], T.ArrayType(T.IntegerType()))\n",
    "tfidf_dot_df = tfidf_dot_df.withColumn(\"dot\", topn(F.col('dot')))\n",
    "# metadata_tags_df = metadata_tags_df.withColumn('input_ids', F.udf(lambda z: PLMinput_function(z), pst.ArrayType(pst.IntegerType()))(F.col('Synopsis')))"
   ]
  },
  {
   "cell_type": "code",
   "execution_count": 26,
   "id": "470fe38d",
   "metadata": {},
   "outputs": [
    {
     "name": "stderr",
     "output_type": "stream",
     "text": [
      "                                                                                \r"
     ]
    },
    {
     "data": {
      "text/html": [
       "<table border='1'>\n",
       "<tr><th>i_reviewerID</th><th>j_reviewerID</th><th>dot</th></tr>\n",
       "<tr><td>A28YJZCV43ZWQW</td><td>[A1M7OWNI93N1Y3, ...</td><td>[3, 0, 4, 1, 5]</td></tr>\n",
       "<tr><td>A6DCKXX4659CR</td><td>[AXMWZYP2IROMP, A...</td><td>[4, 0, 1, 2, 3]</td></tr>\n",
       "<tr><td>A175UOHOVXRYMW</td><td>[A28YJZCV43ZWQW, ...</td><td>[7, 1, 3, 2, 0]</td></tr>\n",
       "<tr><td>A1M7OWNI93N1Y3</td><td>[A6DCKXX4659CR, A...</td><td>[4, 5, 0, 1, 2]</td></tr>\n",
       "<tr><td>A338HVUM4AWJY7</td><td>[A175UOHOVXRYMW, ...</td><td>[5, 1, 6, 7, 3]</td></tr>\n",
       "<tr><td>A1MUVHT8BONL5K</td><td>[A1MUVHT8BONL5K, ...</td><td>[2, 1, 0]</td></tr>\n",
       "<tr><td>AXMWZYP2IROMP</td><td>[AKKQM6B0KI6F4, A...</td><td>[3, 0, 1, 2]</td></tr>\n",
       "<tr><td>AKKQM6B0KI6F4</td><td>[A1MUVHT8BONL5K, ...</td><td>[2, 0, 1]</td></tr>\n",
       "</table>\n"
      ],
      "text/plain": [
       "+--------------+--------------------+---------------+\n",
       "|  i_reviewerID|        j_reviewerID|            dot|\n",
       "+--------------+--------------------+---------------+\n",
       "|A28YJZCV43ZWQW|[A1M7OWNI93N1Y3, ...|[3, 0, 4, 1, 5]|\n",
       "| A6DCKXX4659CR|[AXMWZYP2IROMP, A...|[4, 0, 1, 2, 3]|\n",
       "|A175UOHOVXRYMW|[A28YJZCV43ZWQW, ...|[7, 1, 3, 2, 0]|\n",
       "|A1M7OWNI93N1Y3|[A6DCKXX4659CR, A...|[4, 5, 0, 1, 2]|\n",
       "|A338HVUM4AWJY7|[A175UOHOVXRYMW, ...|[5, 1, 6, 7, 3]|\n",
       "|A1MUVHT8BONL5K|[A1MUVHT8BONL5K, ...|      [2, 1, 0]|\n",
       "| AXMWZYP2IROMP|[AKKQM6B0KI6F4, A...|   [3, 0, 1, 2]|\n",
       "| AKKQM6B0KI6F4|[A1MUVHT8BONL5K, ...|      [2, 0, 1]|\n",
       "+--------------+--------------------+---------------+"
      ]
     },
     "execution_count": 26,
     "metadata": {},
     "output_type": "execute_result"
    }
   ],
   "source": [
    "tfidf_dot_df"
   ]
  },
  {
   "cell_type": "code",
   "execution_count": 29,
   "id": "bffca1be",
   "metadata": {},
   "outputs": [],
   "source": [
    "extract_index = F.udf(lambda a, b: [b[i] for i in a], T.ArrayType(T.StringType()))\n",
    "uvu_grouping = tfidf_dot_df.withColumn(\"j_reviewerID\", extract_index(F.col('dot'), F.col('j_reviewerID'))).drop(F.col(\"dot\"))"
   ]
  },
  {
   "cell_type": "code",
   "execution_count": 30,
   "id": "9f4e0c30",
   "metadata": {},
   "outputs": [
    {
     "name": "stderr",
     "output_type": "stream",
     "text": [
      "                                                                                \r"
     ]
    },
    {
     "data": {
      "text/plain": [
       "[Row(i_reviewerID='A28YJZCV43ZWQW', j_reviewerID=['AKKQM6B0KI6F4', 'A1M7OWNI93N1Y3', 'A1MUVHT8BONL5K', 'A6DCKXX4659CR', 'A1MUVHT8BONL5K']),\n",
       " Row(i_reviewerID='A6DCKXX4659CR', j_reviewerID=['A16WE7UU0QD33D', 'AXMWZYP2IROMP', 'AKKQM6B0KI6F4', 'A1MUVHT8BONL5K', 'A1MUVHT8BONL5K']),\n",
       " Row(i_reviewerID='A175UOHOVXRYMW', j_reviewerID=['A16WE7UU0QD33D', 'A1M7OWNI93N1Y3', 'AXMWZYP2IROMP', 'A6DCKXX4659CR', 'A28YJZCV43ZWQW']),\n",
       " Row(i_reviewerID='A1M7OWNI93N1Y3', j_reviewerID=['A1MUVHT8BONL5K', 'A16WE7UU0QD33D', 'A6DCKXX4659CR', 'AXMWZYP2IROMP', 'AKKQM6B0KI6F4']),\n",
       " Row(i_reviewerID='A338HVUM4AWJY7', j_reviewerID=['AKKQM6B0KI6F4', 'A28YJZCV43ZWQW', 'A1MUVHT8BONL5K', 'A1MUVHT8BONL5K', 'A6DCKXX4659CR']),\n",
       " Row(i_reviewerID='A1MUVHT8BONL5K', j_reviewerID=['A16WE7UU0QD33D', 'A16WE7UU0QD33D', 'A1MUVHT8BONL5K']),\n",
       " Row(i_reviewerID='AXMWZYP2IROMP', j_reviewerID=['A16WE7UU0QD33D', 'AKKQM6B0KI6F4', 'A1MUVHT8BONL5K', 'A1MUVHT8BONL5K']),\n",
       " Row(i_reviewerID='AKKQM6B0KI6F4', j_reviewerID=['A16WE7UU0QD33D', 'A1MUVHT8BONL5K', 'A1MUVHT8BONL5K'])]"
      ]
     },
     "execution_count": 30,
     "metadata": {},
     "output_type": "execute_result"
    }
   ],
   "source": [
    "uvu_grouping.collect()"
   ]
  },
  {
   "cell_type": "code",
   "execution_count": null,
   "id": "b35a333e",
   "metadata": {},
   "outputs": [],
   "source": [
    "# tfidf_dot_sample_df = spark.createDataFrame(tfidf_dot_df.head(10))"
   ]
  },
  {
   "cell_type": "code",
   "execution_count": null,
   "id": "2c233ea3",
   "metadata": {},
   "outputs": [],
   "source": [
    "# tfidf_dot_sample_df"
   ]
  },
  {
   "cell_type": "code",
   "execution_count": null,
   "id": "8f343394",
   "metadata": {},
   "outputs": [],
   "source": [
    "# result = data.alias(\"i\").join(data.alias(\"j\"), F.col(\"i.ID\") < F.col(\"j.ID\"))\\\n",
    "#     .select(\n",
    "#         F.col(\"i.ID\").alias(\"i\"),\n",
    "#         F.col(\"j.ID\").alias(\"j\"),\n",
    "#         sim_cos(\"i.feature\", \"j.feature\").alias(\"sim_cosine\"))\\\n",
    "#     .sort(\"i\", \"j\")\n",
    "# result.show()"
   ]
  },
  {
   "cell_type": "code",
   "execution_count": null,
   "id": "8d94b026",
   "metadata": {},
   "outputs": [],
   "source": []
  },
  {
   "cell_type": "code",
   "execution_count": null,
   "id": "03a89943",
   "metadata": {},
   "outputs": [],
   "source": [
    "tfidf_dot_df.write.mode('Overwrite').json(\"/mnt/raid0_ssd_8tb/dataset/Amazon/tfidf_dot_df\")"
   ]
  },
  {
   "cell_type": "code",
   "execution_count": null,
   "id": "e7a73d31",
   "metadata": {},
   "outputs": [],
   "source": []
  }
 ],
 "metadata": {
  "kernelspec": {
   "display_name": "Python 3 (ipykernel)",
   "language": "python",
   "name": "python3"
  },
  "language_info": {
   "codemirror_mode": {
    "name": "ipython",
    "version": 3
   },
   "file_extension": ".py",
   "mimetype": "text/x-python",
   "name": "python",
   "nbconvert_exporter": "python",
   "pygments_lexer": "ipython3",
   "version": "3.8.13"
  }
 },
 "nbformat": 4,
 "nbformat_minor": 5
}
