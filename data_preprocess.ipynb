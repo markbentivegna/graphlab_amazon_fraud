{
 "cells": [
  {
   "cell_type": "code",
   "execution_count": 101,
   "id": "0081bf49",
   "metadata": {},
   "outputs": [],
   "source": [
    "import dgl\n",
    "import pyspark\n",
    "import numpy as np\n",
    "from pyspark.sql import SparkSession\n",
    "import pyspark.sql.functions as F\n",
    "import pyspark.sql.types as T\n",
    "import scipy.sparse as sp\n",
    "import torch\n",
    "import pickle\n",
    "import json\n",
    "# spark.conf.set(\"spark.sql.repl.eagerEval.enabled\", True)"
   ]
  },
  {
   "cell_type": "code",
   "execution_count": 102,
   "id": "43840c00",
   "metadata": {},
   "outputs": [
    {
     "name": "stderr",
     "output_type": "stream",
     "text": [
      "Setting default log level to \"WARN\".\n",
      "To adjust logging level use sc.setLogLevel(newLevel). For SparkR, use setLogLevel(newLevel).\n"
     ]
    },
    {
     "name": "stdout",
     "output_type": "stream",
     "text": [
      "22/10/19 15:36:37 WARN NativeCodeLoader: Unable to load native-hadoop library for your platform... using builtin-java classes where applicable\n",
      "22/10/19 15:36:38 WARN Utils: Service 'SparkUI' could not bind on port 4040. Attempting port 4041.\n",
      "22/10/19 15:36:38 WARN Utils: Service 'SparkUI' could not bind on port 4041. Attempting port 4042.\n",
      "22/10/19 15:36:38 WARN Utils: Service 'SparkUI' could not bind on port 4042. Attempting port 4043.\n"
     ]
    }
   ],
   "source": [
    "spark = SparkSession.builder.master(\"local[20]\").appName(\"graphlab_amazon_fraud.com\").getOrCreate()\n",
    "spark.conf.set(\"spark.sql.repl.eagerEval.enabled\", True)"
   ]
  },
  {
   "cell_type": "code",
   "execution_count": 3,
   "id": "d6b9d07b",
   "metadata": {},
   "outputs": [
    {
     "name": "stderr",
     "output_type": "stream",
     "text": [
      "                                                                                \r"
     ]
    },
    {
     "name": "stdout",
     "output_type": "stream",
     "text": [
      "22/10/18 20:26:36 WARN package: Truncated the string representation of a plan since it was too large. This behavior can be adjusted by setting 'spark.sql.debug.maxToStringFields'.\n"
     ]
    }
   ],
   "source": [
    "review_df = spark.read.json(\"/mnt/raid0_ssd_8tb/dataset/Amazon/Category/reviews_Musical_Instruments.json\")\n",
    "meta_df = spark.read.json(\"/mnt/raid0_ssd_8tb/dataset/Amazon/Category/meta_Musical_Instruments.json\")"
   ]
  },
  {
   "cell_type": "code",
   "execution_count": null,
   "id": "0aafffec",
   "metadata": {},
   "outputs": [],
   "source": [
    "review_df.count()"
   ]
  },
  {
   "cell_type": "code",
   "execution_count": null,
   "id": "b866fcfc",
   "metadata": {},
   "outputs": [],
   "source": [
    "review_df.select(F.count_distinct(\"reviewerID\"))"
   ]
  },
  {
   "cell_type": "code",
   "execution_count": null,
   "id": "7e8acb08",
   "metadata": {},
   "outputs": [],
   "source": [
    "equals_zero = lambda e: e == 0\n",
    "rev_df = review_df.withColumn(\"drop\", F.exists(F.col(\"helpful\"), equals_zero))\n",
    "rev_df = rev_df.filter(F.col(\"drop\") == False).drop(F.col(\"drop\"))\n",
    "rev_df = rev_df.select(\"asin\", \"overall\", \"reviewText\", \"reviewerID\", \"reviewerName\", \"summary\", rev_df.helpful[0], rev_df.helpful[1], \"unixReviewTime\", \"reviewTime\")\n",
    "rev_df"
   ]
  },
  {
   "cell_type": "code",
   "execution_count": null,
   "id": "b207dfca",
   "metadata": {},
   "outputs": [],
   "source": [
    "# rev_df = rev_df.groupBy(\"reviewerID\").agg(F.sum(\"helpful[0]\").alias(\"helpful_0\"), \\\n",
    "#                                 F.sum(\"helpful[1]\").alias(\"helpful_1\"), \\\n",
    "#                                 F.collect_list(\"asin\").alias(\"asin\"), \\\n",
    "#                                 F.collect_list(\"overall\").alias(\"overall\"), \\\n",
    "#                                 F.collect_list(\"reviewText\").alias(\"reviewText\"), \\\n",
    "#                                 F.collect_list(\"summary\").alias(\"summary\"), \\\n",
    "#                                 F.collect_list(\"reviewerName\").alias(\"reviewerName\"), \\\n",
    "#                                 F.collect_list(\"unixReviewTime\").alias(\"unixReviewTime\"), \\\n",
    "#                                 F.collect_list(\"reviewTime\").alias(\"reviewTime\")\n",
    "#                                 )"
   ]
  },
  {
   "cell_type": "code",
   "execution_count": null,
   "id": "cf6aeb06",
   "metadata": {},
   "outputs": [],
   "source": [
    "rev_df = rev_df.withColumn(\"label\", (F.col(\"helpful[0]\") / F.col(\"helpful[1]\"))) #.drop(\"helpful[0]\").drop(\"helpful[1]\")\n",
    "rev_df = rev_df.filter((F.col(\"label\") > 0.8) | (F.col(\"label\") < 0.2))\n",
    "rev_df = rev_df.withColumn(\"label\", F.udf(lambda a: 1 if a > 0.8 else 0, T.IntegerType())(F.col(\"label\")))"
   ]
  },
  {
   "cell_type": "code",
   "execution_count": null,
   "id": "7806ee16",
   "metadata": {},
   "outputs": [],
   "source": [
    "rev_df = rev_df.groupBy(\"reviewerID\").agg(F.sum(\"helpful[0]\").alias(\"helpful_0\"), \\\n",
    "                                F.sum(\"helpful[1]\").alias(\"helpful_1\"), \\\n",
    "                                F.collect_list(\"asin\").alias(\"asin\"), \\\n",
    "                                F.collect_list(\"overall\").alias(\"overall\"), \\\n",
    "                                F.collect_list(\"reviewText\").alias(\"reviewText\"), \\\n",
    "                                F.collect_list(\"summary\").alias(\"summary\"), \\\n",
    "                                F.collect_list(\"reviewerName\").alias(\"reviewerName\"), \\\n",
    "                                F.collect_list(\"unixReviewTime\").alias(\"unixReviewTime\"), \\\n",
    "                                F.collect_list(\"reviewTime\").alias(\"reviewTime\")\n",
    "                                )"
   ]
  },
  {
   "cell_type": "code",
   "execution_count": null,
   "id": "7dcb5794",
   "metadata": {},
   "outputs": [],
   "source": [
    "rev_df"
   ]
  },
  {
   "cell_type": "code",
   "execution_count": null,
   "id": "66328bc8",
   "metadata": {},
   "outputs": [],
   "source": [
    "rev_df = rev_df.withColumn(\"reviewLen\", F.udf(lambda a: len(a), T.IntegerType())(F.col(\"reviewerName\")))\n",
    "rev_df = rev_df.withColumn(\"reviewSetLen\", F.udf(lambda a: len(set(a)), T.IntegerType())(F.col(\"reviewerName\")))\n",
    "rev_df = rev_df.drop(F.col(\"reviewLen\")).drop(F.col(\"reviewSetLen\"))"
   ]
  },
  {
   "cell_type": "code",
   "execution_count": null,
   "id": "bfb45014",
   "metadata": {},
   "outputs": [],
   "source": [
    "reviewers_set = set([row[0] for row in rev_df.select('reviewerID').collect()])"
   ]
  },
  {
   "cell_type": "code",
   "execution_count": null,
   "id": "0fe10b28",
   "metadata": {},
   "outputs": [],
   "source": [
    "len(reviewers_set)"
   ]
  },
  {
   "cell_type": "code",
   "execution_count": null,
   "id": "fab7c49c",
   "metadata": {},
   "outputs": [],
   "source": [
    "# rev_df_json = rev_df.toJSON()\n",
    "# rev_df.coalesce(1).write.format('json').save(\"/mnt/raid0_ssd_8tb/dataset/Amazon/Refined/Musical_Instruments\")"
   ]
  },
  {
   "cell_type": "code",
   "execution_count": null,
   "id": "e3b19b0e",
   "metadata": {},
   "outputs": [],
   "source": [
    "rev_df"
   ]
  },
  {
   "cell_type": "code",
   "execution_count": null,
   "id": "b156db3e",
   "metadata": {},
   "outputs": [],
   "source": [
    "rev_df = rev_df.groupBy(\"reviewerID\").agg(F.sum(\"helpful[0]\").alias(\"helpful_0\"), \\\n",
    "                                F.sum(\"helpful[1]\").alias(\"helpful_1\"), \\\n",
    "                                F.collect_list(\"asin\").alias(\"asin\"), \\\n",
    "                                F.collect_list(\"overall\").alias(\"overall\"), \\\n",
    "                                F.collect_list(\"reviewText\").alias(\"reviewText\"), \\\n",
    "                                F.collect_list(\"summary\").alias(\"summary\"), \\\n",
    "                                F.collect_list(\"reviewerName\").alias(\"reviewerName\"), \\\n",
    "                                F.collect_list(\"unixReviewTime\").alias(\"unixReviewTime\"), \\\n",
    "                                F.collect_list(\"reviewTime\").alias(\"reviewTime\")\n",
    "                                )"
   ]
  },
  {
   "cell_type": "code",
   "execution_count": null,
   "id": "6e056d3a",
   "metadata": {},
   "outputs": [],
   "source": [
    "# id_list = list(rev_df.select('reviewerID').toPandas()['reviewerID'])"
   ]
  },
  {
   "cell_type": "code",
   "execution_count": null,
   "id": "c791fa29",
   "metadata": {},
   "outputs": [],
   "source": [
    "# s = set()\n",
    "# dup = list()\n",
    "# for r_id in id_list:\n",
    "#     if r_id in s:\n",
    "#         dup.append(r_id)\n",
    "#     else:\n",
    "#         s.add(r_id)"
   ]
  },
  {
   "cell_type": "code",
   "execution_count": null,
   "id": "08262d71",
   "metadata": {},
   "outputs": [],
   "source": [
    "# print(dup)"
   ]
  },
  {
   "cell_type": "code",
   "execution_count": null,
   "id": "ab563d5b",
   "metadata": {},
   "outputs": [],
   "source": [
    "# rev_df.filter(rev_df.reviewerID == 'A1R8OFZY6CYX7G').show()"
   ]
  },
  {
   "cell_type": "code",
   "execution_count": null,
   "id": "28728efd",
   "metadata": {},
   "outputs": [],
   "source": [
    "rev_df.select(count_distinct(\"reviewerID\")).show()"
   ]
  },
  {
   "cell_type": "code",
   "execution_count": null,
   "id": "357ba0c1",
   "metadata": {},
   "outputs": [],
   "source": [
    "rev_df.printSchema()"
   ]
  },
  {
   "cell_type": "code",
   "execution_count": null,
   "id": "829a2d37",
   "metadata": {},
   "outputs": [],
   "source": [
    "meta_df.printSchema()"
   ]
  },
  {
   "cell_type": "code",
   "execution_count": null,
   "id": "36a102cb",
   "metadata": {},
   "outputs": [],
   "source": [
    "meta_df"
   ]
  },
  {
   "cell_type": "code",
   "execution_count": null,
   "id": "fb36b521",
   "metadata": {},
   "outputs": [],
   "source": [
    "meta_df.count()"
   ]
  },
  {
   "cell_type": "code",
   "execution_count": null,
   "id": "2eff49b3",
   "metadata": {},
   "outputs": [],
   "source": [
    "upu_groupings = rev_df.groupBy(\"asin\").agg(F.collect_list(\"reviewerID\").alias(\"reviewerID\"))"
   ]
  },
  {
   "cell_type": "code",
   "execution_count": null,
   "id": "29138e81",
   "metadata": {},
   "outputs": [],
   "source": [
    "upu_groupings"
   ]
  },
  {
   "cell_type": "code",
   "execution_count": null,
   "id": "d4e266de",
   "metadata": {},
   "outputs": [],
   "source": [
    "# upu_groupings = upu_groupings.select(\"asin\", \"reviewerID\").filter((F.col('reviewerID').isin(reviewers_set)))"
   ]
  },
  {
   "cell_type": "code",
   "execution_count": null,
   "id": "3d02066e",
   "metadata": {},
   "outputs": [],
   "source": [
    "upu_groupings.count()"
   ]
  },
  {
   "cell_type": "code",
   "execution_count": null,
   "id": "c350ea2b",
   "metadata": {},
   "outputs": [],
   "source": [
    "def format_date(review_time):\n",
    "    month, day, year = review_time.replace(\",\",\"\").split(\" \")\n",
    "    return f\"{int(month):02d}-{int(day):02d}-{int(year):04d}\""
   ]
  },
  {
   "cell_type": "code",
   "execution_count": null,
   "id": "36c021d4",
   "metadata": {},
   "outputs": [],
   "source": [
    "format_date_udf = F.udf(lambda x: format_date(x), T.StringType())\n",
    "usu_groupings = rev_df.withColumn(\"formatted_date\", F.to_date(format_date_udf(F.concat_ws(\",\", \"reviewTime\")), \"MM-dd-yyyy\"))\n",
    "usu_groupings = usu_groupings.groupBy(F.weekofyear(\"formatted_date\").alias(\"week\"), \"overall\").agg(F.collect_list(\"reviewerID\").alias(\"reviewerID\"))#.collect()"
   ]
  },
  {
   "cell_type": "code",
   "execution_count": null,
   "id": "442ac53f",
   "metadata": {},
   "outputs": [],
   "source": [
    "usu_groupings.count()"
   ]
  },
  {
   "cell_type": "code",
   "execution_count": null,
   "id": "4f215101",
   "metadata": {},
   "outputs": [],
   "source": [
    "from pyspark.ml.feature import HashingTF, IDF, Tokenizer"
   ]
  },
  {
   "cell_type": "code",
   "execution_count": null,
   "id": "c8760b2b",
   "metadata": {},
   "outputs": [],
   "source": [
    "tokenizer = Tokenizer(inputCol=\"reviewText\", outputCol=\"words\")\n",
    "words_df = tokenizer.transform(rev_df)"
   ]
  },
  {
   "cell_type": "code",
   "execution_count": null,
   "id": "efc2a7b5",
   "metadata": {},
   "outputs": [],
   "source": [
    "hashingTF = HashingTF(inputCol=\"words\", outputCol=\"tf_features\")\n",
    "tf_df = hashingTF.transform(words_df)"
   ]
  },
  {
   "cell_type": "code",
   "execution_count": null,
   "id": "4e198dca",
   "metadata": {},
   "outputs": [],
   "source": [
    "# featurizedData"
   ]
  },
  {
   "cell_type": "code",
   "execution_count": null,
   "id": "f1efdf56",
   "metadata": {},
   "outputs": [],
   "source": [
    "idf = IDF(inputCol=\"tf_features\", outputCol=\"features\")\n",
    "idfModel = idf.fit(tf_df)\n",
    "tfidf_df = idfModel.transform(tf_df)"
   ]
  },
  {
   "cell_type": "code",
   "execution_count": null,
   "id": "30bd3274",
   "metadata": {},
   "outputs": [],
   "source": [
    "from pyspark.ml.feature import Normalizer\n",
    "normalizer = Normalizer(inputCol=\"features\", outputCol=\"norm\")\n",
    "tfidf_df= normalizer.transform(tfidf_df).drop(F.col(\"tf_features\")).drop(F.col(\"features\"))"
   ]
  },
  {
   "cell_type": "code",
   "execution_count": null,
   "id": "56e9f56e",
   "metadata": {},
   "outputs": [],
   "source": [
    "tfidf_df"
   ]
  },
  {
   "cell_type": "code",
   "execution_count": null,
   "id": "fe3ed66f",
   "metadata": {},
   "outputs": [],
   "source": [
    "tfidf_sample_df = spark.createDataFrame(tfidf_df.head(10))\n",
    "# tfidf_sample_df = tfidf_df\n",
    "# tfidf_sample_df = tfidf_df.sample(fraction=0.3, seed=3)"
   ]
  },
  {
   "cell_type": "code",
   "execution_count": null,
   "id": "9112c6ca",
   "metadata": {},
   "outputs": [],
   "source": [
    "tfidf_sample_df.count()"
   ]
  },
  {
   "cell_type": "code",
   "execution_count": null,
   "id": "ef69e845",
   "metadata": {},
   "outputs": [],
   "source": [
    "# features = [row[0] for row in tfidf_df.select('norm').collect()]\n",
    "# features"
   ]
  },
  {
   "cell_type": "code",
   "execution_count": null,
   "id": "3d608ec8",
   "metadata": {},
   "outputs": [],
   "source": [
    "dot_prd = F.udf(lambda x,y: float(x.dot(y)), T.DoubleType())\n",
    "tfidf_dot_df = tfidf_sample_df.alias(\"i\").join(tfidf_sample_df.alias(\"j\"), F.col(\"i.norm\") < F.col(\"j.norm\"))\\\n",
    "    .select(\n",
    "        F.col(\"i.reviewerID\").alias(\"i_reviewerID\"),\n",
    "        F.col(\"j.reviewerID\").alias(\"j_reviewerID\"),\n",
    "        F.col(\"i.norm\").alias(\"i\"), \n",
    "        F.col(\"j.norm\").alias(\"j\"), \n",
    "        dot_prd(\"i.norm\", \"j.norm\").alias(\"dot\"))\\\n",
    "    .sort(\"i\", \"j\")\n",
    "\n",
    "# dot_prd = F.udf(lambda x,y: float(x.dot(y)), T.DoubleType())\n",
    "# tfidf_sample_df.alias(\"i\").join(tfidf_sample_df.alias(\"j\"), F.col(\"i.norm\") < F.col(\"j.norm\"))\\\n",
    "#     .select(\n",
    "#         F.col(\"i.norm\").alias(\"i\"), \n",
    "#         F.col(\"j.norm\").alias(\"j\"), \n",
    "#         dot_prd(\"i.norm\", \"j.norm\").alias(\"dot\"))\\\n",
    "#     .sort(\"i\", \"j\")"
   ]
  },
  {
   "cell_type": "code",
   "execution_count": null,
   "id": "e4cf74e2",
   "metadata": {},
   "outputs": [],
   "source": [
    "tfidf_dot_df = tfidf_dot_df.drop(F.col(\"i\")).drop(F.col(\"j\"))"
   ]
  },
  {
   "cell_type": "code",
   "execution_count": null,
   "id": "a14c22c4",
   "metadata": {},
   "outputs": [],
   "source": [
    "tfidf_dot_df = tfidf_dot_df.groupBy(\"i_reviewerID\").agg(F.collect_list(\"j_reviewerID\").alias(\"j_reviewerID\"), \\\n",
    "                                F.collect_list(\"dot\").alias(\"dot\")\n",
    "                                )"
   ]
  },
  {
   "cell_type": "code",
   "execution_count": null,
   "id": "77d447ea",
   "metadata": {},
   "outputs": [],
   "source": [
    "tfidf_dot_df.count()"
   ]
  },
  {
   "cell_type": "code",
   "execution_count": null,
   "id": "5275e74b",
   "metadata": {},
   "outputs": [],
   "source": [
    "# topn = F.udf(lambda a: zip(*heapq.nlargest(5, enumerate(a), key=operator.itemgetter(1)))[0], T.ArrayType(T.IntegerType()))\n",
    "topn = F.udf(lambda a: sorted(range(len(a)), key=lambda i: a[i])[-5:], T.ArrayType(T.IntegerType()))\n",
    "tfidf_dot_df = tfidf_dot_df.withColumn(\"dot\", topn(F.col('dot')))\n",
    "# metadata_tags_df = metadata_tags_df.withColumn('input_ids', F.udf(lambda z: PLMinput_function(z), pst.ArrayType(pst.IntegerType()))(F.col('Synopsis')))"
   ]
  },
  {
   "cell_type": "code",
   "execution_count": null,
   "id": "3c0219bf",
   "metadata": {},
   "outputs": [],
   "source": [
    "tfidf_dot_df"
   ]
  },
  {
   "cell_type": "code",
   "execution_count": null,
   "id": "6175f304",
   "metadata": {},
   "outputs": [],
   "source": [
    "extract_index = F.udf(lambda a, b: [b[i] for i in a], T.ArrayType(T.StringType()))\n",
    "uvu_grouping = tfidf_dot_df.withColumn(\"j_reviewerID\", extract_index(F.col('dot'), F.col('j_reviewerID'))).drop(F.col(\"dot\"))"
   ]
  },
  {
   "cell_type": "code",
   "execution_count": null,
   "id": "08b2fe32",
   "metadata": {},
   "outputs": [],
   "source": [
    "uvu_grouping.collect()"
   ]
  },
  {
   "cell_type": "code",
   "execution_count": null,
   "id": "e4dd03bb",
   "metadata": {},
   "outputs": [],
   "source": [
    "# tfidf_dot_sample_df = spark.createDataFrame(tfidf_dot_df.head(10))"
   ]
  },
  {
   "cell_type": "code",
   "execution_count": null,
   "id": "82655e9c",
   "metadata": {},
   "outputs": [],
   "source": [
    "# tfidf_dot_sample_df"
   ]
  },
  {
   "cell_type": "code",
   "execution_count": null,
   "id": "8d6f19b9",
   "metadata": {},
   "outputs": [],
   "source": [
    "# result = data.alias(\"i\").join(data.alias(\"j\"), F.col(\"i.ID\") < F.col(\"j.ID\"))\\\n",
    "#     .select(\n",
    "#         F.col(\"i.ID\").alias(\"i\"),\n",
    "#         F.col(\"j.ID\").alias(\"j\"),\n",
    "#         sim_cos(\"i.feature\", \"j.feature\").alias(\"sim_cosine\"))\\\n",
    "#     .sort(\"i\", \"j\")\n",
    "# result.show()"
   ]
  },
  {
   "cell_type": "code",
   "execution_count": null,
   "id": "77a70e51",
   "metadata": {},
   "outputs": [],
   "source": []
  },
  {
   "cell_type": "code",
   "execution_count": null,
   "id": "f76fc2cc",
   "metadata": {},
   "outputs": [],
   "source": [
    "tfidf_dot_df.write.mode('Overwrite').json(\"/mnt/raid0_ssd_8tb/dataset/Amazon/tfidf_dot_df\")"
   ]
  },
  {
   "cell_type": "code",
   "execution_count": null,
   "id": "a8af3579",
   "metadata": {},
   "outputs": [],
   "source": [
    "uvu_df = spark.read.json(\"/mnt/raid0_ssd_8tb/dataset/Amazon/uvu.json\")"
   ]
  },
  {
   "cell_type": "code",
   "execution_count": null,
   "id": "46af002e",
   "metadata": {},
   "outputs": [],
   "source": [
    "uvu_df"
   ]
  },
  {
   "cell_type": "code",
   "execution_count": null,
   "id": "f5665e66",
   "metadata": {},
   "outputs": [],
   "source": [
    "reviewer_set = set()\n",
    "for u in uvu_df.select('j_reviewerID').collect():\n",
    "    reviewer_set.update(u[0])\n",
    "print(reviewer_set)"
   ]
  },
  {
   "cell_type": "code",
   "execution_count": null,
   "id": "58d9ffc8",
   "metadata": {},
   "outputs": [],
   "source": [
    "reviewer_set.update([row[0] for row in uvu_df.select('i_reviewerID').collect()])"
   ]
  },
  {
   "cell_type": "code",
   "execution_count": null,
   "id": "dfab0fa2",
   "metadata": {},
   "outputs": [],
   "source": [
    "len(reviewer_set)"
   ]
  },
  {
   "cell_type": "code",
   "execution_count": null,
   "id": "3a5d479c",
   "metadata": {},
   "outputs": [],
   "source": [
    "print(reviewer_set)"
   ]
  },
  {
   "cell_type": "code",
   "execution_count": null,
   "id": "94fccefd",
   "metadata": {},
   "outputs": [],
   "source": [
    "##To save in file\n",
    "with open('/mnt/raid0_ssd_8tb/dataset/Amazon/reviewer_set.txt','wb') as f:\n",
    "   pickle.dump(reviewer_set, f)"
   ]
  },
  {
   "cell_type": "code",
   "execution_count": null,
   "id": "5ef94d7f",
   "metadata": {},
   "outputs": [],
   "source": [
    "##To read it again from file\n",
    "with open('/mnt/raid0_ssd_8tb/dataset/Amazon/reviewer_set.txt','rb') as f:\n",
    "   reviewer_set = pickle.load(f)"
   ]
  },
  {
   "cell_type": "code",
   "execution_count": null,
   "id": "8ae4e3dd",
   "metadata": {},
   "outputs": [],
   "source": [
    "rev_df = spark.read.json(\"/mnt/raid0_ssd_8tb/dataset/Amazon/Refined/Musical_Instruments/part-00000-d63112ec-17bf-419d-baec-2c7c77685d35-c000.json\")"
   ]
  },
  {
   "cell_type": "code",
   "execution_count": null,
   "id": "7bc056cd",
   "metadata": {},
   "outputs": [],
   "source": [
    "rev_df"
   ]
  },
  {
   "cell_type": "code",
   "execution_count": null,
   "id": "e9d4626b",
   "metadata": {},
   "outputs": [],
   "source": [
    "## Run from here.\n",
    "with open('/mnt/raid0_ssd_8tb/dataset/Amazon/reviewer_set.pkl', 'rb') as file:\n",
    "    reviewer_set = pickle.load(file)"
   ]
  },
  {
   "cell_type": "code",
   "execution_count": null,
   "id": "db6fba08",
   "metadata": {},
   "outputs": [],
   "source": [
    "len(reviewer_set)"
   ]
  },
  {
   "cell_type": "code",
   "execution_count": null,
   "id": "c6618501",
   "metadata": {},
   "outputs": [],
   "source": [
    "# reviewer_set"
   ]
  },
  {
   "cell_type": "code",
   "execution_count": null,
   "id": "8b94ce25",
   "metadata": {},
   "outputs": [],
   "source": [
    "index_to_id = dict()\n",
    "id_to_index = dict()\n",
    "for i, r in enumerate(reviewer_set):\n",
    "    index_to_id[i] = r\n",
    "    id_to_index[r] = i"
   ]
  },
  {
   "cell_type": "code",
   "execution_count": null,
   "id": "7824f70b",
   "metadata": {},
   "outputs": [],
   "source": [
    "with open(\"/mnt/raid0_ssd_8tb/dataset/Amazon/index_to_id.json\", \"w\") as outfile:\n",
    "    json.dump(index_to_id, outfile)\n",
    "with open(\"/mnt/raid0_ssd_8tb/dataset/Amazon/id_to_index.json\", \"w\") as outfile:\n",
    "    json.dump(id_to_index, outfile)"
   ]
  },
  {
   "cell_type": "code",
   "execution_count": null,
   "id": "e72b8ebc",
   "metadata": {},
   "outputs": [],
   "source": [
    "with open('/mnt/raid0_ssd_8tb/dataset/Amazon/index_to_id.json') as json_file:\n",
    "    index_to_id = json.load(json_file, object_hook=lambda d: {int(k) if k.isdigit() else k: v for k, v in d.items()})"
   ]
  },
  {
   "cell_type": "code",
   "execution_count": null,
   "id": "c10543ed",
   "metadata": {},
   "outputs": [],
   "source": [
    "index_to_id[0]"
   ]
  },
  {
   "cell_type": "markdown",
   "id": "07d4c822",
   "metadata": {},
   "source": [
    "#### Build a graph"
   ]
  },
  {
   "cell_type": "code",
   "execution_count": 103,
   "id": "0f2e8738",
   "metadata": {},
   "outputs": [],
   "source": [
    "features = sp.load_npz('/mnt/raid0_ssd_8tb/dataset/Amazon/amz_features_25.npz')\n",
    "# with open('/mnt/raid0_ssd_8tb/dataset/Amazon/amz_features_25.np.npy', 'rb') as f:\n",
    "#     features = np.load(f, allow_pickle=True)"
   ]
  },
  {
   "cell_type": "code",
   "execution_count": 104,
   "id": "a424b51b",
   "metadata": {},
   "outputs": [
    {
     "data": {
      "text/plain": [
       "[[1.0,\n",
       "  10.0,\n",
       "  0.0,\n",
       "  0.0,\n",
       "  0.0,\n",
       "  0.0,\n",
       "  1.0,\n",
       "  0.0,\n",
       "  0.0,\n",
       "  0.0,\n",
       "  0.0,\n",
       "  1.0,\n",
       "  0.0,\n",
       "  1.0,\n",
       "  -9.999950000398841e-06,\n",
       "  5.0,\n",
       "  5.0,\n",
       "  5.0,\n",
       "  5.0,\n",
       "  1.0,\n",
       "  0.0,\n",
       "  1.0,\n",
       "  0.0,\n",
       "  27.0,\n",
       "  1.0],\n",
       " [1.0,\n",
       "  10.0,\n",
       "  0.0,\n",
       "  0.0,\n",
       "  0.0,\n",
       "  0.0,\n",
       "  1.0,\n",
       "  0.0,\n",
       "  0.0,\n",
       "  0.0,\n",
       "  0.0,\n",
       "  1.0,\n",
       "  0.0,\n",
       "  1.0,\n",
       "  -9.999950000398841e-06,\n",
       "  5.0,\n",
       "  5.0,\n",
       "  5.0,\n",
       "  5.0,\n",
       "  3.0,\n",
       "  0.0,\n",
       "  1.0,\n",
       "  0.0,\n",
       "  41.0,\n",
       "  1.0],\n",
       " [1.0,\n",
       "  7.0,\n",
       "  0.0,\n",
       "  0.0,\n",
       "  0.0,\n",
       "  1.0,\n",
       "  0.0,\n",
       "  0.0,\n",
       "  0.0,\n",
       "  0.0,\n",
       "  1.0,\n",
       "  0.0,\n",
       "  0.0,\n",
       "  1.0,\n",
       "  -9.999950000398841e-06,\n",
       "  4.0,\n",
       "  4.0,\n",
       "  4.0,\n",
       "  4.0,\n",
       "  1.0,\n",
       "  0.0,\n",
       "  1.0,\n",
       "  0.0,\n",
       "  30.0,\n",
       "  1.0],\n",
       " [1.0,\n",
       "  8.0,\n",
       "  0.0,\n",
       "  0.0,\n",
       "  1.0,\n",
       "  0.0,\n",
       "  0.0,\n",
       "  0.0,\n",
       "  0.0,\n",
       "  1.0,\n",
       "  0.0,\n",
       "  0.0,\n",
       "  0.0,\n",
       "  0.0,\n",
       "  -9.999950000398841e-06,\n",
       "  3.0,\n",
       "  3.0,\n",
       "  3.0,\n",
       "  3.0,\n",
       "  0.0,\n",
       "  0.0,\n",
       "  1.0,\n",
       "  0.0,\n",
       "  60.0,\n",
       "  -1.0],\n",
       " [1.0,\n",
       "  11.0,\n",
       "  1.0,\n",
       "  0.0,\n",
       "  0.0,\n",
       "  0.0,\n",
       "  0.0,\n",
       "  1.0,\n",
       "  0.0,\n",
       "  0.0,\n",
       "  0.0,\n",
       "  0.0,\n",
       "  1.0,\n",
       "  0.0,\n",
       "  -9.999950000398841e-06,\n",
       "  1.0,\n",
       "  1.0,\n",
       "  1.0,\n",
       "  1.0,\n",
       "  21.0,\n",
       "  0.0,\n",
       "  1.0,\n",
       "  0.0,\n",
       "  20.0,\n",
       "  1.0],\n",
       " [2.0,\n",
       "  31.0,\n",
       "  0.0,\n",
       "  0.0,\n",
       "  0.0,\n",
       "  0.0,\n",
       "  2.0,\n",
       "  0.0,\n",
       "  0.0,\n",
       "  0.0,\n",
       "  0.0,\n",
       "  1.0,\n",
       "  0.0,\n",
       "  1.0,\n",
       "  -9.999950000398841e-06,\n",
       "  5.0,\n",
       "  5.0,\n",
       "  5.0,\n",
       "  5.0,\n",
       "  1.0,\n",
       "  70.0,\n",
       "  0.0,\n",
       "  0.0,\n",
       "  20.5,\n",
       "  1.0],\n",
       " [1.0,\n",
       "  29.0,\n",
       "  1.0,\n",
       "  0.0,\n",
       "  0.0,\n",
       "  0.0,\n",
       "  0.0,\n",
       "  1.0,\n",
       "  0.0,\n",
       "  0.0,\n",
       "  0.0,\n",
       "  0.0,\n",
       "  1.0,\n",
       "  0.0,\n",
       "  -9.999950000398841e-06,\n",
       "  1.0,\n",
       "  1.0,\n",
       "  1.0,\n",
       "  1.0,\n",
       "  45.0,\n",
       "  0.0,\n",
       "  1.0,\n",
       "  0.0,\n",
       "  37.0,\n",
       "  1.0],\n",
       " [1.0,\n",
       "  10.0,\n",
       "  0.0,\n",
       "  0.0,\n",
       "  0.0,\n",
       "  0.0,\n",
       "  1.0,\n",
       "  0.0,\n",
       "  0.0,\n",
       "  0.0,\n",
       "  0.0,\n",
       "  1.0,\n",
       "  0.0,\n",
       "  1.0,\n",
       "  -9.999950000398841e-06,\n",
       "  5.0,\n",
       "  5.0,\n",
       "  5.0,\n",
       "  5.0,\n",
       "  2.0,\n",
       "  0.0,\n",
       "  1.0,\n",
       "  0.0,\n",
       "  15.0,\n",
       "  1.0],\n",
       " [1.0,\n",
       "  10.0,\n",
       "  0.0,\n",
       "  0.0,\n",
       "  0.0,\n",
       "  0.0,\n",
       "  1.0,\n",
       "  0.0,\n",
       "  0.0,\n",
       "  0.0,\n",
       "  0.0,\n",
       "  1.0,\n",
       "  0.0,\n",
       "  1.0,\n",
       "  -9.999950000398841e-06,\n",
       "  5.0,\n",
       "  5.0,\n",
       "  5.0,\n",
       "  5.0,\n",
       "  3.0,\n",
       "  0.0,\n",
       "  1.0,\n",
       "  0.0,\n",
       "  88.0,\n",
       "  1.0],\n",
       " [1.0,\n",
       "  10.0,\n",
       "  0.0,\n",
       "  0.0,\n",
       "  0.0,\n",
       "  0.0,\n",
       "  1.0,\n",
       "  0.0,\n",
       "  0.0,\n",
       "  0.0,\n",
       "  0.0,\n",
       "  1.0,\n",
       "  0.0,\n",
       "  1.0,\n",
       "  -9.999950000398841e-06,\n",
       "  5.0,\n",
       "  5.0,\n",
       "  5.0,\n",
       "  5.0,\n",
       "  4.0,\n",
       "  0.0,\n",
       "  1.0,\n",
       "  0.0,\n",
       "  31.0,\n",
       "  1.0]]"
      ]
     },
     "execution_count": 104,
     "metadata": {},
     "output_type": "execute_result"
    }
   ],
   "source": [
    "features.toarray().tolist()[-10:]"
   ]
  },
  {
   "cell_type": "code",
   "execution_count": 64,
   "id": "f2392533",
   "metadata": {},
   "outputs": [],
   "source": [
    "#import scipy.sparse as sp\n",
    "edges = sp.load_npz('/mnt/raid0_ssd_8tb/dataset/Amazon/amz_upsu_adj.npz')"
   ]
  },
  {
   "cell_type": "code",
   "execution_count": 105,
   "id": "3446ff63",
   "metadata": {},
   "outputs": [
    {
     "data": {
      "text/plain": [
       "(11944, 11944)"
      ]
     },
     "execution_count": 105,
     "metadata": {},
     "output_type": "execute_result"
    }
   ],
   "source": [
    "edges.toarray().shape"
   ]
  },
  {
   "cell_type": "code",
   "execution_count": 106,
   "id": "853a4d2f",
   "metadata": {},
   "outputs": [],
   "source": [
    "with open('/mnt/raid0_ssd_8tb/dataset/Amazon/index_to_user.pkl', 'rb') as f:\n",
    "    index_to_user = pickle.load(f) # index -> user_id\n",
    "with open('/mnt/raid0_ssd_8tb/dataset/Amazon/user_to_label.pkl', 'rb') as f:\n",
    "    user_to_label = pickle.load(f) # user_id -> label"
   ]
  },
  {
   "cell_type": "code",
   "execution_count": 107,
   "id": "abe43e81",
   "metadata": {},
   "outputs": [],
   "source": [
    "labels = []\n",
    "for i in range(len(index_to_user)):\n",
    "    labels.append(user_to_label[index_to_user[i]])"
   ]
  },
  {
   "cell_type": "code",
   "execution_count": 108,
   "id": "a2a21b91",
   "metadata": {},
   "outputs": [],
   "source": [
    "# with open('/mnt/raid0_ssd_8tb/dataset/Amazon/reviewer_benign_set.pkl', 'rb') as file:\n",
    "#     reviewer_benign_set = pickle.load(file)"
   ]
  },
  {
   "cell_type": "code",
   "execution_count": 109,
   "id": "7f48dbd9",
   "metadata": {},
   "outputs": [],
   "source": [
    "# len(reviewer_benign_set)"
   ]
  },
  {
   "cell_type": "code",
   "execution_count": 110,
   "id": "19dd1d3c",
   "metadata": {},
   "outputs": [],
   "source": [
    "# index_to_label = dict()\n",
    "# id_to_label = dict()\n",
    "# for i in index_to_id.keys():\n",
    "#     if index_to_id[i] in reviewer_benign_set:\n",
    "#         index_to_label[i] = 0\n",
    "#         id_to_label[index_to_id[i]] = 0\n",
    "#     else:\n",
    "#         index_to_label[i] = 1\n",
    "#         id_to_label[index_to_id[i]] = 1"
   ]
  },
  {
   "cell_type": "code",
   "execution_count": 111,
   "id": "1bdaacfa",
   "metadata": {},
   "outputs": [],
   "source": [
    "# with open(\"/mnt/raid0_ssd_8tb/dataset/Amazon/index_to_label.json\", \"w\") as outfile:\n",
    "#     json.dump(index_to_label, outfile)\n",
    "# with open(\"/mnt/raid0_ssd_8tb/dataset/Amazon/id_to_label.json\", \"w\") as outfile:\n",
    "#     json.dump(id_to_label, outfile)"
   ]
  },
  {
   "cell_type": "code",
   "execution_count": 112,
   "id": "76a56a42",
   "metadata": {},
   "outputs": [],
   "source": [
    "# with open('/mnt/raid0_ssd_8tb/dataset/Amazon/id_to_label.json') as json_file:\n",
    "#     id_to_label = json.load(json_file, object_hook=lambda d: {int(k) if k.isdigit() else k: v for k, v in d.items()})"
   ]
  },
  {
   "cell_type": "code",
   "execution_count": 113,
   "id": "f1402680",
   "metadata": {},
   "outputs": [
    {
     "data": {
      "text/plain": [
       "11123"
      ]
     },
     "execution_count": 113,
     "metadata": {},
     "output_type": "execute_result"
    }
   ],
   "source": [
    "# list(id_to_label.values()).count(0)\n",
    "labels.count(0)"
   ]
  },
  {
   "cell_type": "code",
   "execution_count": 114,
   "id": "dcf9d228",
   "metadata": {},
   "outputs": [],
   "source": [
    "g = dgl.from_scipy(edges)"
   ]
  },
  {
   "cell_type": "code",
   "execution_count": 115,
   "id": "4a8169fa",
   "metadata": {},
   "outputs": [],
   "source": [
    "g.ndata['feature'] = torch.from_numpy(np.float32(features.toarray()))\n",
    "g.ndata['label'] = torch.from_numpy(np.array(labels))"
   ]
  },
  {
   "cell_type": "code",
   "execution_count": 116,
   "id": "350f866f",
   "metadata": {},
   "outputs": [
    {
     "name": "stdout",
     "output_type": "stream",
     "text": [
      "Done loading data from cached files.\n"
     ]
    }
   ],
   "source": [
    "from dgl.data import FraudYelpDataset, FraudAmazonDataset\n",
    "dataset = FraudAmazonDataset()\n",
    "graph = dataset[0]\n",
    "graph = dgl.to_homogeneous(dataset[0], ndata=['feature', 'label', 'train_mask', 'val_mask', 'test_mask'])"
   ]
  },
  {
   "cell_type": "code",
   "execution_count": 117,
   "id": "8b7b21c2",
   "metadata": {},
   "outputs": [
    {
     "data": {
      "text/plain": [
       "5897"
      ]
     },
     "execution_count": 117,
     "metadata": {},
     "output_type": "execute_result"
    }
   ],
   "source": [
    "graph.ndata['train_mask'].tolist().count(0)"
   ]
  },
  {
   "cell_type": "code",
   "execution_count": 118,
   "id": "1879e257",
   "metadata": {},
   "outputs": [
    {
     "data": {
      "text/plain": [
       "11123"
      ]
     },
     "execution_count": 118,
     "metadata": {},
     "output_type": "execute_result"
    }
   ],
   "source": [
    "g.ndata['label'].tolist().count(0)"
   ]
  },
  {
   "cell_type": "code",
   "execution_count": 119,
   "id": "f30559cb",
   "metadata": {},
   "outputs": [],
   "source": [
    "g.ndata['train_mask'] = graph.ndata['train_mask']\n",
    "g.ndata['val_mask'] = graph.ndata['val_mask']\n",
    "g.ndata['test_mask'] = graph.ndata['test_mask']"
   ]
  },
  {
   "cell_type": "code",
   "execution_count": 120,
   "id": "017059a7",
   "metadata": {},
   "outputs": [],
   "source": [
    "from dgl.data.utils import save_graphs\n",
    "graph_labels = {\"glabel\": torch.tensor([0])}\n",
    "save_graphs(\"/mnt/raid0_ssd_8tb/dataset/Amazon/graph.bin\", [g], graph_labels)"
   ]
  },
  {
   "cell_type": "code",
   "execution_count": 121,
   "id": "99001aca",
   "metadata": {},
   "outputs": [],
   "source": [
    "from dgl.data.utils import load_graphs\n",
    "g, label_dict = load_graphs(\"/mnt/raid0_ssd_8tb/dataset/Amazon/graph.bin\", [0])"
   ]
  },
  {
   "cell_type": "code",
   "execution_count": 122,
   "id": "2827f477",
   "metadata": {},
   "outputs": [
    {
     "data": {
      "text/plain": [
       "11123"
      ]
     },
     "execution_count": 122,
     "metadata": {},
     "output_type": "execute_result"
    }
   ],
   "source": [
    "g[0].ndata['label'].tolist().count(0)"
   ]
  },
  {
   "cell_type": "code",
   "execution_count": 123,
   "id": "2583fa46",
   "metadata": {},
   "outputs": [
    {
     "data": {
      "text/plain": [
       "{'feature': tensor([[ 1.0000, 26.0000,  0.0000,  ...,  1.0000, 13.0000,  1.0000],\n",
       "        [ 4.0000, 17.0000,  0.0000,  ...,  0.0000, 45.0000,  1.0000],\n",
       "        [ 2.0000, 15.0000,  0.0000,  ...,  1.0000, 24.5000,  1.0000],\n",
       "        ...,\n",
       "        [ 1.0000, 10.0000,  0.0000,  ...,  1.0000, 15.0000,  1.0000],\n",
       "        [ 1.0000, 10.0000,  0.0000,  ...,  1.0000, 88.0000,  1.0000],\n",
       "        [ 1.0000, 10.0000,  0.0000,  ...,  1.0000, 31.0000,  1.0000]]), 'label': tensor([0, 0, 0,  ..., 0, 0, 0]), 'train_mask': tensor([0, 0, 0,  ..., 0, 1, 1], dtype=torch.uint8), 'val_mask': tensor([0, 0, 0,  ..., 0, 0, 0], dtype=torch.uint8), 'test_mask': tensor([0, 0, 0,  ..., 1, 0, 0], dtype=torch.uint8), '_ID': tensor([    0,     1,     2,  ..., 11941, 11942, 11943]), '_TYPE': tensor([0, 0, 0,  ..., 0, 0, 0])}"
      ]
     },
     "execution_count": 123,
     "metadata": {},
     "output_type": "execute_result"
    }
   ],
   "source": [
    "graph.ndata"
   ]
  },
  {
   "cell_type": "code",
   "execution_count": 124,
   "id": "58366766",
   "metadata": {},
   "outputs": [
    {
     "data": {
      "text/plain": [
       "{'test_mask': tensor([0, 0, 0,  ..., 1, 0, 0], dtype=torch.uint8), 'val_mask': tensor([0, 0, 0,  ..., 0, 0, 0], dtype=torch.uint8), 'train_mask': tensor([0, 0, 0,  ..., 0, 1, 1], dtype=torch.uint8), 'feature': tensor([[ 1., 15.,  0.,  ...,  0., 18.,  1.],\n",
       "        [ 1.,  5.,  0.,  ...,  0., 22.,  1.],\n",
       "        [ 1., 11.,  0.,  ...,  0., 36.,  1.],\n",
       "        ...,\n",
       "        [ 1., 10.,  0.,  ...,  0., 15.,  1.],\n",
       "        [ 1., 10.,  0.,  ...,  0., 88.,  1.],\n",
       "        [ 1., 10.,  0.,  ...,  0., 31.,  1.]]), 'label': tensor([0, 0, 0,  ..., 0, 0, 0])}"
      ]
     },
     "execution_count": 124,
     "metadata": {},
     "output_type": "execute_result"
    }
   ],
   "source": [
    "g[0].ndata"
   ]
  },
  {
   "cell_type": "code",
   "execution_count": 125,
   "id": "5b22754d",
   "metadata": {},
   "outputs": [
    {
     "data": {
      "text/plain": [
       "Graph(num_nodes=11944, num_edges=9557648,\n",
       "      ndata_schemes={'feature': Scheme(shape=(25,), dtype=torch.float32), 'label': Scheme(shape=(), dtype=torch.int64), 'train_mask': Scheme(shape=(), dtype=torch.uint8), 'val_mask': Scheme(shape=(), dtype=torch.uint8), 'test_mask': Scheme(shape=(), dtype=torch.uint8), '_ID': Scheme(shape=(), dtype=torch.int64), '_TYPE': Scheme(shape=(), dtype=torch.int64)}\n",
       "      edata_schemes={'_ID': Scheme(shape=(), dtype=torch.int64), '_TYPE': Scheme(shape=(), dtype=torch.int64)})"
      ]
     },
     "execution_count": 125,
     "metadata": {},
     "output_type": "execute_result"
    }
   ],
   "source": [
    "graph"
   ]
  },
  {
   "cell_type": "code",
   "execution_count": 126,
   "id": "3c207957",
   "metadata": {},
   "outputs": [
    {
     "data": {
      "text/plain": [
       "[Graph(num_nodes=11944, num_edges=9734218,\n",
       "       ndata_schemes={'test_mask': Scheme(shape=(), dtype=torch.uint8), 'val_mask': Scheme(shape=(), dtype=torch.uint8), 'train_mask': Scheme(shape=(), dtype=torch.uint8), 'feature': Scheme(shape=(25,), dtype=torch.float32), 'label': Scheme(shape=(), dtype=torch.int64)}\n",
       "       edata_schemes={})]"
      ]
     },
     "execution_count": 126,
     "metadata": {},
     "output_type": "execute_result"
    }
   ],
   "source": [
    "g"
   ]
  },
  {
   "cell_type": "code",
   "execution_count": null,
   "id": "b161fdb2",
   "metadata": {},
   "outputs": [],
   "source": []
  }
 ],
 "metadata": {
  "interpreter": {
   "hash": "46f02a9f0e747f7f0e9d6b850ff73fa3d9a07ba98bab2534dd2dbaba2a0683a1"
  },
  "kernelspec": {
   "display_name": "Python 3 (ipykernel)",
   "language": "python",
   "name": "python3"
  },
  "language_info": {
   "codemirror_mode": {
    "name": "ipython",
    "version": 3
   },
   "file_extension": ".py",
   "mimetype": "text/x-python",
   "name": "python",
   "nbconvert_exporter": "python",
   "pygments_lexer": "ipython3",
   "version": "3.8.13"
  }
 },
 "nbformat": 4,
 "nbformat_minor": 5
}
